{
 "cells": [
  {
   "cell_type": "markdown",
   "metadata": {},
   "source": [
    "### preprocess_function"
   ]
  },
  {
   "cell_type": "markdown",
   "metadata": {},
   "source": [
    "- preprocess_function: This function takes examples as input. Each example typically contains a premise, a hypothesis, and a label. The function tokenizes the premise and hypothesis using a tokenizer. It pads or truncates the tokenized sequences to a maximum sequence length of 128. Then, it extracts the labels from the examples. Finally, it returns a dictionary containing the tokenized premise and hypothesis along with their attention masks and the labels.\n",
    "\n",
    "- tokenized_datasets.map: This method applies the preprocess_function to each example in the raw_dataset. It tokenizes the premises and hypotheses, extracts labels, and returns a new dataset (tokenized_datasets) with the processed data.\n",
    "\n",
    "- tokenized_datasets.remove_columns: This method removes the columns 'premise', 'hypothesis', and 'label' from the dataset, as they are no longer needed after tokenization and preprocessing.\n",
    "\n",
    "- tokenized_datasets.set_format(\"torch\"): This method sets the format of the dataset to PyTorch tensors, making it compatible with PyTorch."
   ]
  },
  {
   "cell_type": "code",
   "execution_count": 10,
   "metadata": {},
   "outputs": [
    {
     "data": {
      "text/plain": [
       "torch.Size([1, 6])"
      ]
     },
     "execution_count": 10,
     "metadata": {},
     "output_type": "execute_result"
    }
   ],
   "source": [
    "import torch\n",
    "a = torch.LongTensor([[3,42,4,2,34,5]])\n",
    "a.shape"
   ]
  },
  {
   "cell_type": "code",
   "execution_count": 11,
   "metadata": {},
   "outputs": [
    {
     "data": {
      "text/plain": [
       "tensor([[[ 3],\n",
       "         [42],\n",
       "         [ 4],\n",
       "         [ 2],\n",
       "         [34],\n",
       "         [ 5]]])"
      ]
     },
     "execution_count": 11,
     "metadata": {},
     "output_type": "execute_result"
    }
   ],
   "source": [
    "a.unsqueeze(-1)"
   ]
  },
  {
   "cell_type": "code",
   "execution_count": 3,
   "metadata": {},
   "outputs": [
    {
     "name": "stdout",
     "output_type": "stream",
     "text": [
      "Context shape: torch.Size([2, 3, 5])\n",
      "Attention weights shape: torch.Size([2, 3, 3])\n"
     ]
    }
   ],
   "source": [
    "import torch\n",
    "import numpy as np\n",
    "import torch.nn as nn\n",
    "\n",
    "class ScaledDotProductAttention(nn.Module):\n",
    "    def __init__(self):\n",
    "        super(ScaledDotProductAttention, self).__init__()\n",
    "\n",
    "    def forward(self, Q, K, V, attn_mask):\n",
    "        d_k = Q.size(-1)\n",
    "        scores = torch.matmul(Q, K.transpose(-1, -2)) / np.sqrt(d_k)\n",
    "        scores.masked_fill_(attn_mask, -1e9)\n",
    "        attn = nn.Softmax(dim=-1)(scores)\n",
    "        context = torch.matmul(attn, V)\n",
    "        return context, attn\n",
    "\n",
    "# Example tensors\n",
    "Q = torch.randn(2, 3, 4)  # Batch size 2, 3 queries, each with 4 dimensions\n",
    "K = torch.randn(2, 3, 4)  # Batch size 2, 3 keys, each with 4 dimensions\n",
    "V = torch.randn(2, 3, 5)  # Batch size 2, 3 values, each with 5 dimensions\n",
    "\n",
    "# Assuming an attention mask where certain positions are masked out\n",
    "attn_mask = torch.zeros(2, 3, 3).bool()  # Shape [batch_size, num_heads, len_q(=len_k)]\n",
    "attn_mask[:, :, -1] = True  # Mask out last position for all batches and heads\n",
    "\n",
    "# Instantiate attention module\n",
    "attention = ScaledDotProductAttention()\n",
    "\n",
    "# Apply attention\n",
    "context, attn = attention(Q, K, V, attn_mask)\n",
    "\n",
    "print(\"Context shape:\", context.shape)\n",
    "print(\"Attention weights shape:\", attn.shape)"
   ]
  },
  {
   "cell_type": "code",
   "execution_count": null,
   "metadata": {},
   "outputs": [],
   "source": []
  }
 ],
 "metadata": {
  "kernelspec": {
   "display_name": "Python 3",
   "language": "python",
   "name": "python3"
  },
  "language_info": {
   "codemirror_mode": {
    "name": "ipython",
    "version": 3
   },
   "file_extension": ".py",
   "mimetype": "text/x-python",
   "name": "python",
   "nbconvert_exporter": "python",
   "pygments_lexer": "ipython3",
   "version": "3.11.6"
  }
 },
 "nbformat": 4,
 "nbformat_minor": 2
}
